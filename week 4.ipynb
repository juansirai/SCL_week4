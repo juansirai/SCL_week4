{
 "cells": [
  {
   "cell_type": "markdown",
   "metadata": {},
   "source": [
    "# 🐱‍💻DATA SCIENCE CHALLENGE SCL WEEK 4 🐱‍💻\n",
    "### *Predicting card fraud*"
   ]
  },
  {
   "cell_type": "markdown",
   "metadata": {},
   "source": [
    "<img src='https://www.eastwestbank.com/ReachFurther/NewsArticleStore/519/Online-credit-card-fraud1.jpg'>"
   ]
  },
  {
   "cell_type": "markdown",
   "metadata": {},
   "source": [
    "# 🔍BACKGROUND\n",
    "The datasets contains transactions made by credit cards in September 2013 by european cardholders. It contains only numerical input variables which are the result of a PCA transformation. Unfortunately, due to confidentiality issues, we cannot provide the original features and more background information about the data. Features V1, V2, ... V28 are the principal components obtained with PCA, the only features which have not been transformed with PCA are 'Time' and 'Amount'. Feature 'Time' contains the seconds elapsed between each transaction and the first transaction in the dataset. The feature 'Amount' is the transaction Amount, this feature can be used for example-dependant cost-senstive learning. Feature 'Class' is the response variable and it takes value 1 in case of fraud and 0 otherwise. The dataset has been collected and analysed during a research collaboration of Worldline and the Machine Learning Group (mlg.ulb.ac.be) of ULB (Université Libre de Bruxelles) on big data mining and fraud detection.\n",
    "\n",
    "# 🔍TASK\n",
    "Create a predictive algorithm (Machine Learning, NOT ANN) to predict if a transaction is fraud (class 1) or not (class 2).\n",
    "\n",
    "# 🔍DATASETS\n",
    "Columns:\n",
    "\n",
    "* 0 -> Time, numeric variable\n",
    "* 1-28 -> Predictive numeric features\n",
    "* 29 -> Amount, numeric variable\n",
    "* 30 -> Class, this is the target. It is a nominal variable with just 2 unique values (0 and 1)"
   ]
  },
  {
   "cell_type": "markdown",
   "metadata": {},
   "source": [
    "# 🔍Importing Libraries"
   ]
  },
  {
   "cell_type": "code",
   "execution_count": 1,
   "metadata": {},
   "outputs": [],
   "source": [
    "import pandas as pd\n",
    "import numpy as np\n",
    "import seaborn as sns\n",
    "import matplotlib.pyplot as plt\n",
    "import matplotlib.gridspec as gridspec\n",
    "from sklearn.preprocessing import StandardScaler, RobustScaler\n",
    "from sklearn.model_selection import train_test_split\n",
    "import statsmodels.api as sm\n",
    "import statsmodels.formula.api as smf\n",
    "from sklearn.model_selection import cross_val_score, StratifiedKFold\n",
    "\n",
    "from sklearn.metrics import accuracy_score,plot_confusion_matrix,roc_auc_score, classification_report, confusion_matrix, precision_recall_curve, auc\n",
    "\n",
    "\n",
    "from sklearn.model_selection import cross_val_score, StratifiedKFold\n",
    "from sklearn.tree import DecisionTreeClassifier\n",
    "from sklearn.ensemble import AdaBoostClassifier, GradientBoostingClassifier\n",
    "from sklearn.linear_model import LogisticRegression, LogisticRegressionCV"
   ]
  },
  {
   "cell_type": "markdown",
   "metadata": {},
   "source": [
    "# 🔍Preliminar Analysis of Data\n",
    "------------------"
   ]
  },
  {
   "cell_type": "code",
   "execution_count": 2,
   "metadata": {},
   "outputs": [],
   "source": [
    "df = pd.read_csv('train.csv')\n",
    "X_test = pd.read_csv('X_test.csv')"
   ]
  },
  {
   "cell_type": "code",
   "execution_count": 3,
   "metadata": {},
   "outputs": [
    {
     "data": {
      "text/html": [
       "<div>\n",
       "<style scoped>\n",
       "    .dataframe tbody tr th:only-of-type {\n",
       "        vertical-align: middle;\n",
       "    }\n",
       "\n",
       "    .dataframe tbody tr th {\n",
       "        vertical-align: top;\n",
       "    }\n",
       "\n",
       "    .dataframe thead th {\n",
       "        text-align: right;\n",
       "    }\n",
       "</style>\n",
       "<table border=\"1\" class=\"dataframe\">\n",
       "  <thead>\n",
       "    <tr style=\"text-align: right;\">\n",
       "      <th></th>\n",
       "      <th>Unnamed: 0</th>\n",
       "      <th>Time</th>\n",
       "      <th>V1</th>\n",
       "      <th>V2</th>\n",
       "      <th>V3</th>\n",
       "      <th>V4</th>\n",
       "      <th>V5</th>\n",
       "      <th>V6</th>\n",
       "      <th>V7</th>\n",
       "      <th>V8</th>\n",
       "      <th>...</th>\n",
       "      <th>V21</th>\n",
       "      <th>V22</th>\n",
       "      <th>V23</th>\n",
       "      <th>V24</th>\n",
       "      <th>V25</th>\n",
       "      <th>V26</th>\n",
       "      <th>V27</th>\n",
       "      <th>V28</th>\n",
       "      <th>Amount</th>\n",
       "      <th>Class</th>\n",
       "    </tr>\n",
       "  </thead>\n",
       "  <tbody>\n",
       "    <tr>\n",
       "      <th>0</th>\n",
       "      <td>3295</td>\n",
       "      <td>26261</td>\n",
       "      <td>-0.324180</td>\n",
       "      <td>-0.689664</td>\n",
       "      <td>1.248250</td>\n",
       "      <td>-3.099011</td>\n",
       "      <td>-0.492221</td>\n",
       "      <td>-0.514122</td>\n",
       "      <td>-0.364238</td>\n",
       "      <td>0.093091</td>\n",
       "      <td>...</td>\n",
       "      <td>-0.106775</td>\n",
       "      <td>-0.092716</td>\n",
       "      <td>0.112490</td>\n",
       "      <td>-0.517835</td>\n",
       "      <td>-0.732661</td>\n",
       "      <td>-0.659781</td>\n",
       "      <td>0.173737</td>\n",
       "      <td>0.178140</td>\n",
       "      <td>20.0</td>\n",
       "      <td>'0'</td>\n",
       "    </tr>\n",
       "    <tr>\n",
       "      <th>1</th>\n",
       "      <td>7239</td>\n",
       "      <td>77699</td>\n",
       "      <td>1.058979</td>\n",
       "      <td>-0.635378</td>\n",
       "      <td>1.075733</td>\n",
       "      <td>0.728828</td>\n",
       "      <td>-1.311240</td>\n",
       "      <td>-0.193179</td>\n",
       "      <td>-0.625044</td>\n",
       "      <td>-0.014119</td>\n",
       "      <td>...</td>\n",
       "      <td>-0.118993</td>\n",
       "      <td>0.199730</td>\n",
       "      <td>-0.041309</td>\n",
       "      <td>0.618249</td>\n",
       "      <td>0.386204</td>\n",
       "      <td>-0.237576</td>\n",
       "      <td>0.086713</td>\n",
       "      <td>0.052510</td>\n",
       "      <td>90.0</td>\n",
       "      <td>'0'</td>\n",
       "    </tr>\n",
       "    <tr>\n",
       "      <th>2</th>\n",
       "      <td>4803</td>\n",
       "      <td>4250</td>\n",
       "      <td>1.015982</td>\n",
       "      <td>0.254365</td>\n",
       "      <td>0.620039</td>\n",
       "      <td>1.494604</td>\n",
       "      <td>0.470163</td>\n",
       "      <td>1.255922</td>\n",
       "      <td>-0.226799</td>\n",
       "      <td>0.295975</td>\n",
       "      <td>...</td>\n",
       "      <td>-0.133388</td>\n",
       "      <td>0.273829</td>\n",
       "      <td>0.083820</td>\n",
       "      <td>-0.666219</td>\n",
       "      <td>0.385798</td>\n",
       "      <td>-0.274221</td>\n",
       "      <td>0.075576</td>\n",
       "      <td>0.002012</td>\n",
       "      <td>1.0</td>\n",
       "      <td>'0'</td>\n",
       "    </tr>\n",
       "  </tbody>\n",
       "</table>\n",
       "<p>3 rows × 32 columns</p>\n",
       "</div>"
      ],
      "text/plain": [
       "   Unnamed: 0   Time        V1        V2        V3        V4        V5  \\\n",
       "0        3295  26261 -0.324180 -0.689664  1.248250 -3.099011 -0.492221   \n",
       "1        7239  77699  1.058979 -0.635378  1.075733  0.728828 -1.311240   \n",
       "2        4803   4250  1.015982  0.254365  0.620039  1.494604  0.470163   \n",
       "\n",
       "         V6        V7        V8  ...       V21       V22       V23       V24  \\\n",
       "0 -0.514122 -0.364238  0.093091  ... -0.106775 -0.092716  0.112490 -0.517835   \n",
       "1 -0.193179 -0.625044 -0.014119  ... -0.118993  0.199730 -0.041309  0.618249   \n",
       "2  1.255922 -0.226799  0.295975  ... -0.133388  0.273829  0.083820 -0.666219   \n",
       "\n",
       "        V25       V26       V27       V28  Amount  Class  \n",
       "0 -0.732661 -0.659781  0.173737  0.178140    20.0    '0'  \n",
       "1  0.386204 -0.237576  0.086713  0.052510    90.0    '0'  \n",
       "2  0.385798 -0.274221  0.075576  0.002012     1.0    '0'  \n",
       "\n",
       "[3 rows x 32 columns]"
      ]
     },
     "execution_count": 3,
     "metadata": {},
     "output_type": "execute_result"
    }
   ],
   "source": [
    "df.head(3)"
   ]
  },
  {
   "cell_type": "markdown",
   "metadata": {},
   "source": [
    "As we can see, we have 30 different features in our dataset plus the target."
   ]
  },
  {
   "cell_type": "code",
   "execution_count": 5,
   "metadata": {},
   "outputs": [],
   "source": [
    "# Droping unnecesary columns\n",
    "\n",
    "df = df.drop(columns=['Unnamed: 0'], axis=1)"
   ]
  },
  {
   "cell_type": "code",
   "execution_count": 6,
   "metadata": {},
   "outputs": [
    {
     "data": {
      "text/plain": [
       "'0'    7052\n",
       "'1'     318\n",
       "Name: Class, dtype: int64"
      ]
     },
     "execution_count": 6,
     "metadata": {},
     "output_type": "execute_result"
    }
   ],
   "source": [
    "df.Class.value_counts()"
   ]
  },
  {
   "cell_type": "code",
   "execution_count": 7,
   "metadata": {},
   "outputs": [],
   "source": [
    "df['Class'] = df.Class.apply(lambda x: 0 if x==\"'0'\" else 1)"
   ]
  },
  {
   "cell_type": "code",
   "execution_count": 8,
   "metadata": {},
   "outputs": [
    {
     "data": {
      "text/plain": [
       "0    7052\n",
       "1     318\n",
       "Name: Class, dtype: int64"
      ]
     },
     "execution_count": 8,
     "metadata": {},
     "output_type": "execute_result"
    }
   ],
   "source": [
    "df.Class.value_counts()"
   ]
  },
  {
   "cell_type": "code",
   "execution_count": 9,
   "metadata": {},
   "outputs": [
    {
     "data": {
      "text/html": [
       "<div>\n",
       "<style scoped>\n",
       "    .dataframe tbody tr th:only-of-type {\n",
       "        vertical-align: middle;\n",
       "    }\n",
       "\n",
       "    .dataframe tbody tr th {\n",
       "        vertical-align: top;\n",
       "    }\n",
       "\n",
       "    .dataframe thead th {\n",
       "        text-align: right;\n",
       "    }\n",
       "</style>\n",
       "<table border=\"1\" class=\"dataframe\">\n",
       "  <thead>\n",
       "    <tr style=\"text-align: right;\">\n",
       "      <th></th>\n",
       "      <th>Time</th>\n",
       "      <th>V1</th>\n",
       "      <th>V2</th>\n",
       "      <th>V3</th>\n",
       "      <th>V4</th>\n",
       "      <th>V5</th>\n",
       "      <th>V6</th>\n",
       "      <th>V7</th>\n",
       "      <th>V8</th>\n",
       "      <th>V9</th>\n",
       "      <th>...</th>\n",
       "      <th>V21</th>\n",
       "      <th>V22</th>\n",
       "      <th>V23</th>\n",
       "      <th>V24</th>\n",
       "      <th>V25</th>\n",
       "      <th>V26</th>\n",
       "      <th>V27</th>\n",
       "      <th>V28</th>\n",
       "      <th>Amount</th>\n",
       "      <th>Class</th>\n",
       "    </tr>\n",
       "  </thead>\n",
       "  <tbody>\n",
       "    <tr>\n",
       "      <th>0</th>\n",
       "      <td>26261</td>\n",
       "      <td>-0.324180</td>\n",
       "      <td>-0.689664</td>\n",
       "      <td>1.248250</td>\n",
       "      <td>-3.099011</td>\n",
       "      <td>-0.492221</td>\n",
       "      <td>-0.514122</td>\n",
       "      <td>-0.364238</td>\n",
       "      <td>0.093091</td>\n",
       "      <td>-1.850716</td>\n",
       "      <td>...</td>\n",
       "      <td>-0.106775</td>\n",
       "      <td>-0.092716</td>\n",
       "      <td>0.112490</td>\n",
       "      <td>-0.517835</td>\n",
       "      <td>-0.732661</td>\n",
       "      <td>-0.659781</td>\n",
       "      <td>0.173737</td>\n",
       "      <td>0.178140</td>\n",
       "      <td>20.0</td>\n",
       "      <td>0</td>\n",
       "    </tr>\n",
       "    <tr>\n",
       "      <th>1</th>\n",
       "      <td>77699</td>\n",
       "      <td>1.058979</td>\n",
       "      <td>-0.635378</td>\n",
       "      <td>1.075733</td>\n",
       "      <td>0.728828</td>\n",
       "      <td>-1.311240</td>\n",
       "      <td>-0.193179</td>\n",
       "      <td>-0.625044</td>\n",
       "      <td>-0.014119</td>\n",
       "      <td>-0.648844</td>\n",
       "      <td>...</td>\n",
       "      <td>-0.118993</td>\n",
       "      <td>0.199730</td>\n",
       "      <td>-0.041309</td>\n",
       "      <td>0.618249</td>\n",
       "      <td>0.386204</td>\n",
       "      <td>-0.237576</td>\n",
       "      <td>0.086713</td>\n",
       "      <td>0.052510</td>\n",
       "      <td>90.0</td>\n",
       "      <td>0</td>\n",
       "    </tr>\n",
       "    <tr>\n",
       "      <th>2</th>\n",
       "      <td>4250</td>\n",
       "      <td>1.015982</td>\n",
       "      <td>0.254365</td>\n",
       "      <td>0.620039</td>\n",
       "      <td>1.494604</td>\n",
       "      <td>0.470163</td>\n",
       "      <td>1.255922</td>\n",
       "      <td>-0.226799</td>\n",
       "      <td>0.295975</td>\n",
       "      <td>1.411473</td>\n",
       "      <td>...</td>\n",
       "      <td>-0.133388</td>\n",
       "      <td>0.273829</td>\n",
       "      <td>0.083820</td>\n",
       "      <td>-0.666219</td>\n",
       "      <td>0.385798</td>\n",
       "      <td>-0.274221</td>\n",
       "      <td>0.075576</td>\n",
       "      <td>0.002012</td>\n",
       "      <td>1.0</td>\n",
       "      <td>0</td>\n",
       "    </tr>\n",
       "  </tbody>\n",
       "</table>\n",
       "<p>3 rows × 31 columns</p>\n",
       "</div>"
      ],
      "text/plain": [
       "    Time        V1        V2        V3        V4        V5        V6  \\\n",
       "0  26261 -0.324180 -0.689664  1.248250 -3.099011 -0.492221 -0.514122   \n",
       "1  77699  1.058979 -0.635378  1.075733  0.728828 -1.311240 -0.193179   \n",
       "2   4250  1.015982  0.254365  0.620039  1.494604  0.470163  1.255922   \n",
       "\n",
       "         V7        V8        V9  ...       V21       V22       V23       V24  \\\n",
       "0 -0.364238  0.093091 -1.850716  ... -0.106775 -0.092716  0.112490 -0.517835   \n",
       "1 -0.625044 -0.014119 -0.648844  ... -0.118993  0.199730 -0.041309  0.618249   \n",
       "2 -0.226799  0.295975  1.411473  ... -0.133388  0.273829  0.083820 -0.666219   \n",
       "\n",
       "        V25       V26       V27       V28  Amount  Class  \n",
       "0 -0.732661 -0.659781  0.173737  0.178140    20.0      0  \n",
       "1  0.386204 -0.237576  0.086713  0.052510    90.0      0  \n",
       "2  0.385798 -0.274221  0.075576  0.002012     1.0      0  \n",
       "\n",
       "[3 rows x 31 columns]"
      ]
     },
     "execution_count": 9,
     "metadata": {},
     "output_type": "execute_result"
    }
   ],
   "source": [
    "df.head(3)"
   ]
  },
  {
   "cell_type": "markdown",
   "metadata": {},
   "source": [
    "### Data Types and distributions"
   ]
  },
  {
   "cell_type": "code",
   "execution_count": 10,
   "metadata": {},
   "outputs": [
    {
     "name": "stdout",
     "output_type": "stream",
     "text": [
      "<class 'pandas.core.frame.DataFrame'>\n",
      "RangeIndex: 7370 entries, 0 to 7369\n",
      "Data columns (total 31 columns):\n",
      " #   Column  Non-Null Count  Dtype  \n",
      "---  ------  --------------  -----  \n",
      " 0   Time    7370 non-null   int64  \n",
      " 1   V1      7370 non-null   float64\n",
      " 2   V2      7370 non-null   float64\n",
      " 3   V3      7370 non-null   float64\n",
      " 4   V4      7370 non-null   float64\n",
      " 5   V5      7370 non-null   float64\n",
      " 6   V6      7370 non-null   float64\n",
      " 7   V7      7370 non-null   float64\n",
      " 8   V8      7370 non-null   float64\n",
      " 9   V9      7370 non-null   float64\n",
      " 10  V10     7370 non-null   float64\n",
      " 11  V11     7370 non-null   float64\n",
      " 12  V12     7370 non-null   float64\n",
      " 13  V13     7370 non-null   float64\n",
      " 14  V14     7370 non-null   float64\n",
      " 15  V15     7370 non-null   float64\n",
      " 16  V16     7370 non-null   float64\n",
      " 17  V17     7370 non-null   float64\n",
      " 18  V18     7370 non-null   float64\n",
      " 19  V19     7370 non-null   float64\n",
      " 20  V20     7370 non-null   float64\n",
      " 21  V21     7370 non-null   float64\n",
      " 22  V22     7370 non-null   float64\n",
      " 23  V23     7370 non-null   float64\n",
      " 24  V24     7370 non-null   float64\n",
      " 25  V25     7370 non-null   float64\n",
      " 26  V26     7370 non-null   float64\n",
      " 27  V27     7370 non-null   float64\n",
      " 28  V28     7370 non-null   float64\n",
      " 29  Amount  7370 non-null   float64\n",
      " 30  Class   7370 non-null   int64  \n",
      "dtypes: float64(29), int64(2)\n",
      "memory usage: 1.7 MB\n"
     ]
    },
    {
     "data": {
      "text/plain": [
       "None"
      ]
     },
     "metadata": {},
     "output_type": "display_data"
    },
    {
     "data": {
      "text/html": [
       "<div>\n",
       "<style scoped>\n",
       "    .dataframe tbody tr th:only-of-type {\n",
       "        vertical-align: middle;\n",
       "    }\n",
       "\n",
       "    .dataframe tbody tr th {\n",
       "        vertical-align: top;\n",
       "    }\n",
       "\n",
       "    .dataframe thead th {\n",
       "        text-align: right;\n",
       "    }\n",
       "</style>\n",
       "<table border=\"1\" class=\"dataframe\">\n",
       "  <thead>\n",
       "    <tr style=\"text-align: right;\">\n",
       "      <th></th>\n",
       "      <th>count</th>\n",
       "      <th>mean</th>\n",
       "      <th>std</th>\n",
       "      <th>min</th>\n",
       "      <th>25%</th>\n",
       "      <th>50%</th>\n",
       "      <th>75%</th>\n",
       "      <th>max</th>\n",
       "    </tr>\n",
       "  </thead>\n",
       "  <tbody>\n",
       "    <tr>\n",
       "      <th>Time</th>\n",
       "      <td>7370.0</td>\n",
       "      <td>92475.074898</td>\n",
       "      <td>47276.774474</td>\n",
       "      <td>17.000000</td>\n",
       "      <td>52694.250000</td>\n",
       "      <td>84491.000000</td>\n",
       "      <td>135829.750000</td>\n",
       "      <td>172787.000000</td>\n",
       "    </tr>\n",
       "    <tr>\n",
       "      <th>V1</th>\n",
       "      <td>7370.0</td>\n",
       "      <td>-0.833627</td>\n",
       "      <td>2.954439</td>\n",
       "      <td>-36.802320</td>\n",
       "      <td>-1.557422</td>\n",
       "      <td>-0.653961</td>\n",
       "      <td>1.025357</td>\n",
       "      <td>2.132535</td>\n",
       "    </tr>\n",
       "    <tr>\n",
       "      <th>V2</th>\n",
       "      <td>7370.0</td>\n",
       "      <td>-0.024620</td>\n",
       "      <td>2.930521</td>\n",
       "      <td>-63.344698</td>\n",
       "      <td>-0.653821</td>\n",
       "      <td>0.158172</td>\n",
       "      <td>0.853543</td>\n",
       "      <td>19.167239</td>\n",
       "    </tr>\n",
       "    <tr>\n",
       "      <th>V3</th>\n",
       "      <td>7370.0</td>\n",
       "      <td>-0.000536</td>\n",
       "      <td>2.738342</td>\n",
       "      <td>-31.103685</td>\n",
       "      <td>-0.609843</td>\n",
       "      <td>0.540937</td>\n",
       "      <td>1.404159</td>\n",
       "      <td>3.934739</td>\n",
       "    </tr>\n",
       "    <tr>\n",
       "      <th>V4</th>\n",
       "      <td>7370.0</td>\n",
       "      <td>0.919625</td>\n",
       "      <td>2.308968</td>\n",
       "      <td>-5.231828</td>\n",
       "      <td>-0.736012</td>\n",
       "      <td>0.634182</td>\n",
       "      <td>2.701308</td>\n",
       "      <td>16.875344</td>\n",
       "    </tr>\n",
       "    <tr>\n",
       "      <th>V5</th>\n",
       "      <td>7370.0</td>\n",
       "      <td>0.050083</td>\n",
       "      <td>2.262596</td>\n",
       "      <td>-22.756016</td>\n",
       "      <td>-0.555609</td>\n",
       "      <td>0.209283</td>\n",
       "      <td>0.966751</td>\n",
       "      <td>23.589804</td>\n",
       "    </tr>\n",
       "    <tr>\n",
       "      <th>V6</th>\n",
       "      <td>7370.0</td>\n",
       "      <td>0.574061</td>\n",
       "      <td>1.584185</td>\n",
       "      <td>-17.118592</td>\n",
       "      <td>-0.305563</td>\n",
       "      <td>0.529454</td>\n",
       "      <td>1.368256</td>\n",
       "      <td>16.614054</td>\n",
       "    </tr>\n",
       "    <tr>\n",
       "      <th>V7</th>\n",
       "      <td>7370.0</td>\n",
       "      <td>-0.293337</td>\n",
       "      <td>2.603668</td>\n",
       "      <td>-37.060311</td>\n",
       "      <td>-0.733465</td>\n",
       "      <td>-0.127633</td>\n",
       "      <td>0.550989</td>\n",
       "      <td>28.239528</td>\n",
       "    </tr>\n",
       "    <tr>\n",
       "      <th>V8</th>\n",
       "      <td>7370.0</td>\n",
       "      <td>0.036787</td>\n",
       "      <td>2.773300</td>\n",
       "      <td>-73.216718</td>\n",
       "      <td>-0.082071</td>\n",
       "      <td>0.264951</td>\n",
       "      <td>0.595819</td>\n",
       "      <td>20.007208</td>\n",
       "    </tr>\n",
       "    <tr>\n",
       "      <th>V9</th>\n",
       "      <td>7370.0</td>\n",
       "      <td>-0.463867</td>\n",
       "      <td>1.310897</td>\n",
       "      <td>-11.126624</td>\n",
       "      <td>-1.128469</td>\n",
       "      <td>-0.486150</td>\n",
       "      <td>0.128096</td>\n",
       "      <td>9.099082</td>\n",
       "    </tr>\n",
       "    <tr>\n",
       "      <th>V10</th>\n",
       "      <td>7370.0</td>\n",
       "      <td>-0.138808</td>\n",
       "      <td>2.022040</td>\n",
       "      <td>-23.228255</td>\n",
       "      <td>-0.748992</td>\n",
       "      <td>0.068420</td>\n",
       "      <td>0.781328</td>\n",
       "      <td>13.249433</td>\n",
       "    </tr>\n",
       "    <tr>\n",
       "      <th>V11</th>\n",
       "      <td>7370.0</td>\n",
       "      <td>0.191689</td>\n",
       "      <td>1.452734</td>\n",
       "      <td>-4.797473</td>\n",
       "      <td>-0.717651</td>\n",
       "      <td>0.028882</td>\n",
       "      <td>0.898281</td>\n",
       "      <td>12.018913</td>\n",
       "    </tr>\n",
       "    <tr>\n",
       "      <th>V12</th>\n",
       "      <td>7370.0</td>\n",
       "      <td>-0.382064</td>\n",
       "      <td>1.892629</td>\n",
       "      <td>-18.683715</td>\n",
       "      <td>-0.616988</td>\n",
       "      <td>0.007147</td>\n",
       "      <td>0.538411</td>\n",
       "      <td>7.848392</td>\n",
       "    </tr>\n",
       "    <tr>\n",
       "      <th>V13</th>\n",
       "      <td>7370.0</td>\n",
       "      <td>0.039131</td>\n",
       "      <td>1.000707</td>\n",
       "      <td>-5.791881</td>\n",
       "      <td>-0.618287</td>\n",
       "      <td>0.020426</td>\n",
       "      <td>0.647378</td>\n",
       "      <td>3.758923</td>\n",
       "    </tr>\n",
       "    <tr>\n",
       "      <th>V14</th>\n",
       "      <td>7370.0</td>\n",
       "      <td>-0.298738</td>\n",
       "      <td>2.041639</td>\n",
       "      <td>-19.214325</td>\n",
       "      <td>-0.441801</td>\n",
       "      <td>0.022589</td>\n",
       "      <td>0.469773</td>\n",
       "      <td>10.526766</td>\n",
       "    </tr>\n",
       "    <tr>\n",
       "      <th>V15</th>\n",
       "      <td>7370.0</td>\n",
       "      <td>-0.010328</td>\n",
       "      <td>1.125992</td>\n",
       "      <td>-4.498945</td>\n",
       "      <td>-0.749706</td>\n",
       "      <td>-0.021343</td>\n",
       "      <td>0.819955</td>\n",
       "      <td>3.426887</td>\n",
       "    </tr>\n",
       "    <tr>\n",
       "      <th>V16</th>\n",
       "      <td>7370.0</td>\n",
       "      <td>-0.316973</td>\n",
       "      <td>1.689559</td>\n",
       "      <td>-14.129855</td>\n",
       "      <td>-1.174315</td>\n",
       "      <td>-0.152339</td>\n",
       "      <td>0.842227</td>\n",
       "      <td>5.477283</td>\n",
       "    </tr>\n",
       "    <tr>\n",
       "      <th>V17</th>\n",
       "      <td>7370.0</td>\n",
       "      <td>-0.158799</td>\n",
       "      <td>2.277551</td>\n",
       "      <td>-25.162799</td>\n",
       "      <td>-0.755325</td>\n",
       "      <td>-0.080003</td>\n",
       "      <td>0.774660</td>\n",
       "      <td>7.611862</td>\n",
       "    </tr>\n",
       "    <tr>\n",
       "      <th>V18</th>\n",
       "      <td>7370.0</td>\n",
       "      <td>-0.316607</td>\n",
       "      <td>1.383532</td>\n",
       "      <td>-9.264609</td>\n",
       "      <td>-1.110970</td>\n",
       "      <td>-0.214001</td>\n",
       "      <td>0.564751</td>\n",
       "      <td>5.041069</td>\n",
       "    </tr>\n",
       "    <tr>\n",
       "      <th>V19</th>\n",
       "      <td>7370.0</td>\n",
       "      <td>-1.799953</td>\n",
       "      <td>0.742265</td>\n",
       "      <td>-7.213527</td>\n",
       "      <td>-2.070259</td>\n",
       "      <td>-1.769519</td>\n",
       "      <td>-1.592847</td>\n",
       "      <td>4.851255</td>\n",
       "    </tr>\n",
       "    <tr>\n",
       "      <th>V20</th>\n",
       "      <td>7370.0</td>\n",
       "      <td>0.010359</td>\n",
       "      <td>1.523456</td>\n",
       "      <td>-9.193693</td>\n",
       "      <td>-0.395793</td>\n",
       "      <td>-0.228860</td>\n",
       "      <td>-0.010417</td>\n",
       "      <td>39.420904</td>\n",
       "    </tr>\n",
       "    <tr>\n",
       "      <th>V21</th>\n",
       "      <td>7370.0</td>\n",
       "      <td>0.096513</td>\n",
       "      <td>1.489908</td>\n",
       "      <td>-34.830382</td>\n",
       "      <td>-0.115440</td>\n",
       "      <td>0.092318</td>\n",
       "      <td>0.290373</td>\n",
       "      <td>27.202839</td>\n",
       "    </tr>\n",
       "    <tr>\n",
       "      <th>V22</th>\n",
       "      <td>7370.0</td>\n",
       "      <td>0.207155</td>\n",
       "      <td>0.851286</td>\n",
       "      <td>-10.933144</td>\n",
       "      <td>-0.205918</td>\n",
       "      <td>0.278743</td>\n",
       "      <td>0.692557</td>\n",
       "      <td>10.503090</td>\n",
       "    </tr>\n",
       "    <tr>\n",
       "      <th>V23</th>\n",
       "      <td>7370.0</td>\n",
       "      <td>-0.001487</td>\n",
       "      <td>1.248368</td>\n",
       "      <td>-44.807735</td>\n",
       "      <td>-0.155589</td>\n",
       "      <td>0.032550</td>\n",
       "      <td>0.209592</td>\n",
       "      <td>22.528412</td>\n",
       "    </tr>\n",
       "    <tr>\n",
       "      <th>V24</th>\n",
       "      <td>7370.0</td>\n",
       "      <td>-0.280143</td>\n",
       "      <td>0.722242</td>\n",
       "      <td>-2.822684</td>\n",
       "      <td>-0.840797</td>\n",
       "      <td>-0.179523</td>\n",
       "      <td>0.330301</td>\n",
       "      <td>3.124267</td>\n",
       "    </tr>\n",
       "    <tr>\n",
       "      <th>V25</th>\n",
       "      <td>7370.0</td>\n",
       "      <td>-0.115080</td>\n",
       "      <td>0.638550</td>\n",
       "      <td>-10.295397</td>\n",
       "      <td>-0.452151</td>\n",
       "      <td>-0.069321</td>\n",
       "      <td>0.245647</td>\n",
       "      <td>4.301757</td>\n",
       "    </tr>\n",
       "    <tr>\n",
       "      <th>V26</th>\n",
       "      <td>7370.0</td>\n",
       "      <td>-0.024675</td>\n",
       "      <td>0.492231</td>\n",
       "      <td>-2.604551</td>\n",
       "      <td>-0.333050</td>\n",
       "      <td>-0.073797</td>\n",
       "      <td>0.197869</td>\n",
       "      <td>2.745261</td>\n",
       "    </tr>\n",
       "    <tr>\n",
       "      <th>V27</th>\n",
       "      <td>7370.0</td>\n",
       "      <td>-0.020647</td>\n",
       "      <td>0.526641</td>\n",
       "      <td>-7.263482</td>\n",
       "      <td>-0.081133</td>\n",
       "      <td>0.018557</td>\n",
       "      <td>0.099392</td>\n",
       "      <td>5.002871</td>\n",
       "    </tr>\n",
       "    <tr>\n",
       "      <th>V28</th>\n",
       "      <td>7370.0</td>\n",
       "      <td>-0.002921</td>\n",
       "      <td>0.336061</td>\n",
       "      <td>-4.043413</td>\n",
       "      <td>-0.057793</td>\n",
       "      <td>0.016055</td>\n",
       "      <td>0.100796</td>\n",
       "      <td>7.546797</td>\n",
       "    </tr>\n",
       "    <tr>\n",
       "      <th>Amount</th>\n",
       "      <td>7370.0</td>\n",
       "      <td>166.590847</td>\n",
       "      <td>636.013909</td>\n",
       "      <td>0.000000</td>\n",
       "      <td>8.650000</td>\n",
       "      <td>33.050000</td>\n",
       "      <td>115.570000</td>\n",
       "      <td>19656.530000</td>\n",
       "    </tr>\n",
       "    <tr>\n",
       "      <th>Class</th>\n",
       "      <td>7370.0</td>\n",
       "      <td>0.043148</td>\n",
       "      <td>0.203204</td>\n",
       "      <td>0.000000</td>\n",
       "      <td>0.000000</td>\n",
       "      <td>0.000000</td>\n",
       "      <td>0.000000</td>\n",
       "      <td>1.000000</td>\n",
       "    </tr>\n",
       "  </tbody>\n",
       "</table>\n",
       "</div>"
      ],
      "text/plain": [
       "         count          mean           std        min           25%  \\\n",
       "Time    7370.0  92475.074898  47276.774474  17.000000  52694.250000   \n",
       "V1      7370.0     -0.833627      2.954439 -36.802320     -1.557422   \n",
       "V2      7370.0     -0.024620      2.930521 -63.344698     -0.653821   \n",
       "V3      7370.0     -0.000536      2.738342 -31.103685     -0.609843   \n",
       "V4      7370.0      0.919625      2.308968  -5.231828     -0.736012   \n",
       "V5      7370.0      0.050083      2.262596 -22.756016     -0.555609   \n",
       "V6      7370.0      0.574061      1.584185 -17.118592     -0.305563   \n",
       "V7      7370.0     -0.293337      2.603668 -37.060311     -0.733465   \n",
       "V8      7370.0      0.036787      2.773300 -73.216718     -0.082071   \n",
       "V9      7370.0     -0.463867      1.310897 -11.126624     -1.128469   \n",
       "V10     7370.0     -0.138808      2.022040 -23.228255     -0.748992   \n",
       "V11     7370.0      0.191689      1.452734  -4.797473     -0.717651   \n",
       "V12     7370.0     -0.382064      1.892629 -18.683715     -0.616988   \n",
       "V13     7370.0      0.039131      1.000707  -5.791881     -0.618287   \n",
       "V14     7370.0     -0.298738      2.041639 -19.214325     -0.441801   \n",
       "V15     7370.0     -0.010328      1.125992  -4.498945     -0.749706   \n",
       "V16     7370.0     -0.316973      1.689559 -14.129855     -1.174315   \n",
       "V17     7370.0     -0.158799      2.277551 -25.162799     -0.755325   \n",
       "V18     7370.0     -0.316607      1.383532  -9.264609     -1.110970   \n",
       "V19     7370.0     -1.799953      0.742265  -7.213527     -2.070259   \n",
       "V20     7370.0      0.010359      1.523456  -9.193693     -0.395793   \n",
       "V21     7370.0      0.096513      1.489908 -34.830382     -0.115440   \n",
       "V22     7370.0      0.207155      0.851286 -10.933144     -0.205918   \n",
       "V23     7370.0     -0.001487      1.248368 -44.807735     -0.155589   \n",
       "V24     7370.0     -0.280143      0.722242  -2.822684     -0.840797   \n",
       "V25     7370.0     -0.115080      0.638550 -10.295397     -0.452151   \n",
       "V26     7370.0     -0.024675      0.492231  -2.604551     -0.333050   \n",
       "V27     7370.0     -0.020647      0.526641  -7.263482     -0.081133   \n",
       "V28     7370.0     -0.002921      0.336061  -4.043413     -0.057793   \n",
       "Amount  7370.0    166.590847    636.013909   0.000000      8.650000   \n",
       "Class   7370.0      0.043148      0.203204   0.000000      0.000000   \n",
       "\n",
       "                 50%            75%            max  \n",
       "Time    84491.000000  135829.750000  172787.000000  \n",
       "V1         -0.653961       1.025357       2.132535  \n",
       "V2          0.158172       0.853543      19.167239  \n",
       "V3          0.540937       1.404159       3.934739  \n",
       "V4          0.634182       2.701308      16.875344  \n",
       "V5          0.209283       0.966751      23.589804  \n",
       "V6          0.529454       1.368256      16.614054  \n",
       "V7         -0.127633       0.550989      28.239528  \n",
       "V8          0.264951       0.595819      20.007208  \n",
       "V9         -0.486150       0.128096       9.099082  \n",
       "V10         0.068420       0.781328      13.249433  \n",
       "V11         0.028882       0.898281      12.018913  \n",
       "V12         0.007147       0.538411       7.848392  \n",
       "V13         0.020426       0.647378       3.758923  \n",
       "V14         0.022589       0.469773      10.526766  \n",
       "V15        -0.021343       0.819955       3.426887  \n",
       "V16        -0.152339       0.842227       5.477283  \n",
       "V17        -0.080003       0.774660       7.611862  \n",
       "V18        -0.214001       0.564751       5.041069  \n",
       "V19        -1.769519      -1.592847       4.851255  \n",
       "V20        -0.228860      -0.010417      39.420904  \n",
       "V21         0.092318       0.290373      27.202839  \n",
       "V22         0.278743       0.692557      10.503090  \n",
       "V23         0.032550       0.209592      22.528412  \n",
       "V24        -0.179523       0.330301       3.124267  \n",
       "V25        -0.069321       0.245647       4.301757  \n",
       "V26        -0.073797       0.197869       2.745261  \n",
       "V27         0.018557       0.099392       5.002871  \n",
       "V28         0.016055       0.100796       7.546797  \n",
       "Amount     33.050000     115.570000   19656.530000  \n",
       "Class       0.000000       0.000000       1.000000  "
      ]
     },
     "metadata": {},
     "output_type": "display_data"
    }
   ],
   "source": [
    "display(df.info(), df.describe().transpose())"
   ]
  },
  {
   "cell_type": "markdown",
   "metadata": {},
   "source": [
    "As we could see, our columns V1 to V28 are standarized (In fact, they have PCA applied, which first step is standarization). So, to make a comparable analysis, I would standarize our 'Amount' and 'Seconds' features too."
   ]
  },
  {
   "cell_type": "code",
   "execution_count": 11,
   "metadata": {},
   "outputs": [],
   "source": [
    "rob_scaler = RobustScaler()"
   ]
  },
  {
   "cell_type": "code",
   "execution_count": 12,
   "metadata": {},
   "outputs": [],
   "source": [
    "df[['Time','Amount']] = rob_scaler.fit_transform(df[['Time','Amount']])"
   ]
  },
  {
   "cell_type": "code",
   "execution_count": 13,
   "metadata": {},
   "outputs": [
    {
     "data": {
      "text/html": [
       "<div>\n",
       "<style scoped>\n",
       "    .dataframe tbody tr th:only-of-type {\n",
       "        vertical-align: middle;\n",
       "    }\n",
       "\n",
       "    .dataframe tbody tr th {\n",
       "        vertical-align: top;\n",
       "    }\n",
       "\n",
       "    .dataframe thead th {\n",
       "        text-align: right;\n",
       "    }\n",
       "</style>\n",
       "<table border=\"1\" class=\"dataframe\">\n",
       "  <thead>\n",
       "    <tr style=\"text-align: right;\">\n",
       "      <th></th>\n",
       "      <th>count</th>\n",
       "      <th>mean</th>\n",
       "      <th>std</th>\n",
       "      <th>min</th>\n",
       "      <th>25%</th>\n",
       "      <th>50%</th>\n",
       "      <th>75%</th>\n",
       "      <th>max</th>\n",
       "    </tr>\n",
       "  </thead>\n",
       "  <tbody>\n",
       "    <tr>\n",
       "      <th>Time</th>\n",
       "      <td>7370.0</td>\n",
       "      <td>0.096037</td>\n",
       "      <td>0.568671</td>\n",
       "      <td>-1.016100</td>\n",
       "      <td>-0.382469</td>\n",
       "      <td>0.000000e+00</td>\n",
       "      <td>0.617531</td>\n",
       "      <td>1.062073</td>\n",
       "    </tr>\n",
       "    <tr>\n",
       "      <th>V1</th>\n",
       "      <td>7370.0</td>\n",
       "      <td>-0.833627</td>\n",
       "      <td>2.954439</td>\n",
       "      <td>-36.802320</td>\n",
       "      <td>-1.557422</td>\n",
       "      <td>-6.539610e-01</td>\n",
       "      <td>1.025357</td>\n",
       "      <td>2.132535</td>\n",
       "    </tr>\n",
       "    <tr>\n",
       "      <th>V2</th>\n",
       "      <td>7370.0</td>\n",
       "      <td>-0.024620</td>\n",
       "      <td>2.930521</td>\n",
       "      <td>-63.344698</td>\n",
       "      <td>-0.653821</td>\n",
       "      <td>1.581723e-01</td>\n",
       "      <td>0.853543</td>\n",
       "      <td>19.167239</td>\n",
       "    </tr>\n",
       "    <tr>\n",
       "      <th>V3</th>\n",
       "      <td>7370.0</td>\n",
       "      <td>-0.000536</td>\n",
       "      <td>2.738342</td>\n",
       "      <td>-31.103685</td>\n",
       "      <td>-0.609843</td>\n",
       "      <td>5.409368e-01</td>\n",
       "      <td>1.404159</td>\n",
       "      <td>3.934739</td>\n",
       "    </tr>\n",
       "    <tr>\n",
       "      <th>V4</th>\n",
       "      <td>7370.0</td>\n",
       "      <td>0.919625</td>\n",
       "      <td>2.308968</td>\n",
       "      <td>-5.231828</td>\n",
       "      <td>-0.736012</td>\n",
       "      <td>6.341819e-01</td>\n",
       "      <td>2.701308</td>\n",
       "      <td>16.875344</td>\n",
       "    </tr>\n",
       "    <tr>\n",
       "      <th>V5</th>\n",
       "      <td>7370.0</td>\n",
       "      <td>0.050083</td>\n",
       "      <td>2.262596</td>\n",
       "      <td>-22.756016</td>\n",
       "      <td>-0.555609</td>\n",
       "      <td>2.092829e-01</td>\n",
       "      <td>0.966751</td>\n",
       "      <td>23.589804</td>\n",
       "    </tr>\n",
       "    <tr>\n",
       "      <th>V6</th>\n",
       "      <td>7370.0</td>\n",
       "      <td>0.574061</td>\n",
       "      <td>1.584185</td>\n",
       "      <td>-17.118592</td>\n",
       "      <td>-0.305563</td>\n",
       "      <td>5.294543e-01</td>\n",
       "      <td>1.368256</td>\n",
       "      <td>16.614054</td>\n",
       "    </tr>\n",
       "    <tr>\n",
       "      <th>V7</th>\n",
       "      <td>7370.0</td>\n",
       "      <td>-0.293337</td>\n",
       "      <td>2.603668</td>\n",
       "      <td>-37.060311</td>\n",
       "      <td>-0.733465</td>\n",
       "      <td>-1.276330e-01</td>\n",
       "      <td>0.550989</td>\n",
       "      <td>28.239528</td>\n",
       "    </tr>\n",
       "    <tr>\n",
       "      <th>V8</th>\n",
       "      <td>7370.0</td>\n",
       "      <td>0.036787</td>\n",
       "      <td>2.773300</td>\n",
       "      <td>-73.216718</td>\n",
       "      <td>-0.082071</td>\n",
       "      <td>2.649507e-01</td>\n",
       "      <td>0.595819</td>\n",
       "      <td>20.007208</td>\n",
       "    </tr>\n",
       "    <tr>\n",
       "      <th>V9</th>\n",
       "      <td>7370.0</td>\n",
       "      <td>-0.463867</td>\n",
       "      <td>1.310897</td>\n",
       "      <td>-11.126624</td>\n",
       "      <td>-1.128469</td>\n",
       "      <td>-4.861504e-01</td>\n",
       "      <td>0.128096</td>\n",
       "      <td>9.099082</td>\n",
       "    </tr>\n",
       "    <tr>\n",
       "      <th>V10</th>\n",
       "      <td>7370.0</td>\n",
       "      <td>-0.138808</td>\n",
       "      <td>2.022040</td>\n",
       "      <td>-23.228255</td>\n",
       "      <td>-0.748992</td>\n",
       "      <td>6.841971e-02</td>\n",
       "      <td>0.781328</td>\n",
       "      <td>13.249433</td>\n",
       "    </tr>\n",
       "    <tr>\n",
       "      <th>V11</th>\n",
       "      <td>7370.0</td>\n",
       "      <td>0.191689</td>\n",
       "      <td>1.452734</td>\n",
       "      <td>-4.797473</td>\n",
       "      <td>-0.717651</td>\n",
       "      <td>2.888201e-02</td>\n",
       "      <td>0.898281</td>\n",
       "      <td>12.018913</td>\n",
       "    </tr>\n",
       "    <tr>\n",
       "      <th>V12</th>\n",
       "      <td>7370.0</td>\n",
       "      <td>-0.382064</td>\n",
       "      <td>1.892629</td>\n",
       "      <td>-18.683715</td>\n",
       "      <td>-0.616988</td>\n",
       "      <td>7.147047e-03</td>\n",
       "      <td>0.538411</td>\n",
       "      <td>7.848392</td>\n",
       "    </tr>\n",
       "    <tr>\n",
       "      <th>V13</th>\n",
       "      <td>7370.0</td>\n",
       "      <td>0.039131</td>\n",
       "      <td>1.000707</td>\n",
       "      <td>-5.791881</td>\n",
       "      <td>-0.618287</td>\n",
       "      <td>2.042568e-02</td>\n",
       "      <td>0.647378</td>\n",
       "      <td>3.758923</td>\n",
       "    </tr>\n",
       "    <tr>\n",
       "      <th>V14</th>\n",
       "      <td>7370.0</td>\n",
       "      <td>-0.298738</td>\n",
       "      <td>2.041639</td>\n",
       "      <td>-19.214325</td>\n",
       "      <td>-0.441801</td>\n",
       "      <td>2.258868e-02</td>\n",
       "      <td>0.469773</td>\n",
       "      <td>10.526766</td>\n",
       "    </tr>\n",
       "    <tr>\n",
       "      <th>V15</th>\n",
       "      <td>7370.0</td>\n",
       "      <td>-0.010328</td>\n",
       "      <td>1.125992</td>\n",
       "      <td>-4.498945</td>\n",
       "      <td>-0.749706</td>\n",
       "      <td>-2.134335e-02</td>\n",
       "      <td>0.819955</td>\n",
       "      <td>3.426887</td>\n",
       "    </tr>\n",
       "    <tr>\n",
       "      <th>V16</th>\n",
       "      <td>7370.0</td>\n",
       "      <td>-0.316973</td>\n",
       "      <td>1.689559</td>\n",
       "      <td>-14.129855</td>\n",
       "      <td>-1.174315</td>\n",
       "      <td>-1.523387e-01</td>\n",
       "      <td>0.842227</td>\n",
       "      <td>5.477283</td>\n",
       "    </tr>\n",
       "    <tr>\n",
       "      <th>V17</th>\n",
       "      <td>7370.0</td>\n",
       "      <td>-0.158799</td>\n",
       "      <td>2.277551</td>\n",
       "      <td>-25.162799</td>\n",
       "      <td>-0.755325</td>\n",
       "      <td>-8.000313e-02</td>\n",
       "      <td>0.774660</td>\n",
       "      <td>7.611862</td>\n",
       "    </tr>\n",
       "    <tr>\n",
       "      <th>V18</th>\n",
       "      <td>7370.0</td>\n",
       "      <td>-0.316607</td>\n",
       "      <td>1.383532</td>\n",
       "      <td>-9.264609</td>\n",
       "      <td>-1.110970</td>\n",
       "      <td>-2.140009e-01</td>\n",
       "      <td>0.564751</td>\n",
       "      <td>5.041069</td>\n",
       "    </tr>\n",
       "    <tr>\n",
       "      <th>V19</th>\n",
       "      <td>7370.0</td>\n",
       "      <td>-1.799953</td>\n",
       "      <td>0.742265</td>\n",
       "      <td>-7.213527</td>\n",
       "      <td>-2.070259</td>\n",
       "      <td>-1.769519e+00</td>\n",
       "      <td>-1.592847</td>\n",
       "      <td>4.851255</td>\n",
       "    </tr>\n",
       "    <tr>\n",
       "      <th>V20</th>\n",
       "      <td>7370.0</td>\n",
       "      <td>0.010359</td>\n",
       "      <td>1.523456</td>\n",
       "      <td>-9.193693</td>\n",
       "      <td>-0.395793</td>\n",
       "      <td>-2.288595e-01</td>\n",
       "      <td>-0.010417</td>\n",
       "      <td>39.420904</td>\n",
       "    </tr>\n",
       "    <tr>\n",
       "      <th>V21</th>\n",
       "      <td>7370.0</td>\n",
       "      <td>0.096513</td>\n",
       "      <td>1.489908</td>\n",
       "      <td>-34.830382</td>\n",
       "      <td>-0.115440</td>\n",
       "      <td>9.231784e-02</td>\n",
       "      <td>0.290373</td>\n",
       "      <td>27.202839</td>\n",
       "    </tr>\n",
       "    <tr>\n",
       "      <th>V22</th>\n",
       "      <td>7370.0</td>\n",
       "      <td>0.207155</td>\n",
       "      <td>0.851286</td>\n",
       "      <td>-10.933144</td>\n",
       "      <td>-0.205918</td>\n",
       "      <td>2.787433e-01</td>\n",
       "      <td>0.692557</td>\n",
       "      <td>10.503090</td>\n",
       "    </tr>\n",
       "    <tr>\n",
       "      <th>V23</th>\n",
       "      <td>7370.0</td>\n",
       "      <td>-0.001487</td>\n",
       "      <td>1.248368</td>\n",
       "      <td>-44.807735</td>\n",
       "      <td>-0.155589</td>\n",
       "      <td>3.255044e-02</td>\n",
       "      <td>0.209592</td>\n",
       "      <td>22.528412</td>\n",
       "    </tr>\n",
       "    <tr>\n",
       "      <th>V24</th>\n",
       "      <td>7370.0</td>\n",
       "      <td>-0.280143</td>\n",
       "      <td>0.722242</td>\n",
       "      <td>-2.822684</td>\n",
       "      <td>-0.840797</td>\n",
       "      <td>-1.795231e-01</td>\n",
       "      <td>0.330301</td>\n",
       "      <td>3.124267</td>\n",
       "    </tr>\n",
       "    <tr>\n",
       "      <th>V25</th>\n",
       "      <td>7370.0</td>\n",
       "      <td>-0.115080</td>\n",
       "      <td>0.638550</td>\n",
       "      <td>-10.295397</td>\n",
       "      <td>-0.452151</td>\n",
       "      <td>-6.932062e-02</td>\n",
       "      <td>0.245647</td>\n",
       "      <td>4.301757</td>\n",
       "    </tr>\n",
       "    <tr>\n",
       "      <th>V26</th>\n",
       "      <td>7370.0</td>\n",
       "      <td>-0.024675</td>\n",
       "      <td>0.492231</td>\n",
       "      <td>-2.604551</td>\n",
       "      <td>-0.333050</td>\n",
       "      <td>-7.379651e-02</td>\n",
       "      <td>0.197869</td>\n",
       "      <td>2.745261</td>\n",
       "    </tr>\n",
       "    <tr>\n",
       "      <th>V27</th>\n",
       "      <td>7370.0</td>\n",
       "      <td>-0.020647</td>\n",
       "      <td>0.526641</td>\n",
       "      <td>-7.263482</td>\n",
       "      <td>-0.081133</td>\n",
       "      <td>1.855694e-02</td>\n",
       "      <td>0.099392</td>\n",
       "      <td>5.002871</td>\n",
       "    </tr>\n",
       "    <tr>\n",
       "      <th>V28</th>\n",
       "      <td>7370.0</td>\n",
       "      <td>-0.002921</td>\n",
       "      <td>0.336061</td>\n",
       "      <td>-4.043413</td>\n",
       "      <td>-0.057793</td>\n",
       "      <td>1.605462e-02</td>\n",
       "      <td>0.100796</td>\n",
       "      <td>7.546797</td>\n",
       "    </tr>\n",
       "    <tr>\n",
       "      <th>Amount</th>\n",
       "      <td>7370.0</td>\n",
       "      <td>1.248979</td>\n",
       "      <td>5.948503</td>\n",
       "      <td>-0.309110</td>\n",
       "      <td>-0.228208</td>\n",
       "      <td>3.323080e-17</td>\n",
       "      <td>0.771792</td>\n",
       "      <td>183.534231</td>\n",
       "    </tr>\n",
       "    <tr>\n",
       "      <th>Class</th>\n",
       "      <td>7370.0</td>\n",
       "      <td>0.043148</td>\n",
       "      <td>0.203204</td>\n",
       "      <td>0.000000</td>\n",
       "      <td>0.000000</td>\n",
       "      <td>0.000000e+00</td>\n",
       "      <td>0.000000</td>\n",
       "      <td>1.000000</td>\n",
       "    </tr>\n",
       "  </tbody>\n",
       "</table>\n",
       "</div>"
      ],
      "text/plain": [
       "         count      mean       std        min       25%           50%  \\\n",
       "Time    7370.0  0.096037  0.568671  -1.016100 -0.382469  0.000000e+00   \n",
       "V1      7370.0 -0.833627  2.954439 -36.802320 -1.557422 -6.539610e-01   \n",
       "V2      7370.0 -0.024620  2.930521 -63.344698 -0.653821  1.581723e-01   \n",
       "V3      7370.0 -0.000536  2.738342 -31.103685 -0.609843  5.409368e-01   \n",
       "V4      7370.0  0.919625  2.308968  -5.231828 -0.736012  6.341819e-01   \n",
       "V5      7370.0  0.050083  2.262596 -22.756016 -0.555609  2.092829e-01   \n",
       "V6      7370.0  0.574061  1.584185 -17.118592 -0.305563  5.294543e-01   \n",
       "V7      7370.0 -0.293337  2.603668 -37.060311 -0.733465 -1.276330e-01   \n",
       "V8      7370.0  0.036787  2.773300 -73.216718 -0.082071  2.649507e-01   \n",
       "V9      7370.0 -0.463867  1.310897 -11.126624 -1.128469 -4.861504e-01   \n",
       "V10     7370.0 -0.138808  2.022040 -23.228255 -0.748992  6.841971e-02   \n",
       "V11     7370.0  0.191689  1.452734  -4.797473 -0.717651  2.888201e-02   \n",
       "V12     7370.0 -0.382064  1.892629 -18.683715 -0.616988  7.147047e-03   \n",
       "V13     7370.0  0.039131  1.000707  -5.791881 -0.618287  2.042568e-02   \n",
       "V14     7370.0 -0.298738  2.041639 -19.214325 -0.441801  2.258868e-02   \n",
       "V15     7370.0 -0.010328  1.125992  -4.498945 -0.749706 -2.134335e-02   \n",
       "V16     7370.0 -0.316973  1.689559 -14.129855 -1.174315 -1.523387e-01   \n",
       "V17     7370.0 -0.158799  2.277551 -25.162799 -0.755325 -8.000313e-02   \n",
       "V18     7370.0 -0.316607  1.383532  -9.264609 -1.110970 -2.140009e-01   \n",
       "V19     7370.0 -1.799953  0.742265  -7.213527 -2.070259 -1.769519e+00   \n",
       "V20     7370.0  0.010359  1.523456  -9.193693 -0.395793 -2.288595e-01   \n",
       "V21     7370.0  0.096513  1.489908 -34.830382 -0.115440  9.231784e-02   \n",
       "V22     7370.0  0.207155  0.851286 -10.933144 -0.205918  2.787433e-01   \n",
       "V23     7370.0 -0.001487  1.248368 -44.807735 -0.155589  3.255044e-02   \n",
       "V24     7370.0 -0.280143  0.722242  -2.822684 -0.840797 -1.795231e-01   \n",
       "V25     7370.0 -0.115080  0.638550 -10.295397 -0.452151 -6.932062e-02   \n",
       "V26     7370.0 -0.024675  0.492231  -2.604551 -0.333050 -7.379651e-02   \n",
       "V27     7370.0 -0.020647  0.526641  -7.263482 -0.081133  1.855694e-02   \n",
       "V28     7370.0 -0.002921  0.336061  -4.043413 -0.057793  1.605462e-02   \n",
       "Amount  7370.0  1.248979  5.948503  -0.309110 -0.228208  3.323080e-17   \n",
       "Class   7370.0  0.043148  0.203204   0.000000  0.000000  0.000000e+00   \n",
       "\n",
       "             75%         max  \n",
       "Time    0.617531    1.062073  \n",
       "V1      1.025357    2.132535  \n",
       "V2      0.853543   19.167239  \n",
       "V3      1.404159    3.934739  \n",
       "V4      2.701308   16.875344  \n",
       "V5      0.966751   23.589804  \n",
       "V6      1.368256   16.614054  \n",
       "V7      0.550989   28.239528  \n",
       "V8      0.595819   20.007208  \n",
       "V9      0.128096    9.099082  \n",
       "V10     0.781328   13.249433  \n",
       "V11     0.898281   12.018913  \n",
       "V12     0.538411    7.848392  \n",
       "V13     0.647378    3.758923  \n",
       "V14     0.469773   10.526766  \n",
       "V15     0.819955    3.426887  \n",
       "V16     0.842227    5.477283  \n",
       "V17     0.774660    7.611862  \n",
       "V18     0.564751    5.041069  \n",
       "V19    -1.592847    4.851255  \n",
       "V20    -0.010417   39.420904  \n",
       "V21     0.290373   27.202839  \n",
       "V22     0.692557   10.503090  \n",
       "V23     0.209592   22.528412  \n",
       "V24     0.330301    3.124267  \n",
       "V25     0.245647    4.301757  \n",
       "V26     0.197869    2.745261  \n",
       "V27     0.099392    5.002871  \n",
       "V28     0.100796    7.546797  \n",
       "Amount  0.771792  183.534231  \n",
       "Class   0.000000    1.000000  "
      ]
     },
     "execution_count": 13,
     "metadata": {},
     "output_type": "execute_result"
    }
   ],
   "source": [
    "df.describe().transpose()"
   ]
  },
  {
   "cell_type": "code",
   "execution_count": 14,
   "metadata": {},
   "outputs": [
    {
     "data": {
      "image/png": "[encoded data removed]",
      "text/plain": [
       "<Figure size 1440x360 with 2 Axes>"
      ]
     },
     "metadata": {
      "needs_background": "light"
     },
     "output_type": "display_data"
    }
   ],
   "source": [
    "import warnings\n",
    "warnings.filterwarnings('ignore')\n",
    "plt.figure(figsize=(20,5))\n",
    "plt.suptitle('Target and Seconds', size=20)\n",
    "plt.subplot(1,2,1)\n",
    "sns.distplot(df['Time'],color='r')\n",
    "plt.subplot(1,2,2)\n",
    "sns.boxplot(y=df['Time'], x=df['Class'])\n",
    "plt.show()"
   ]
  },
  {
   "cell_type": "code",
   "execution_count": 15,
   "metadata": {},
   "outputs": [
    {
     "data": {
      "image/png": "[encoded data removed]",
      "text/plain": [
       "<Figure size 1440x360 with 2 Axes>"
      ]
     },
     "metadata": {
      "needs_background": "light"
     },
     "output_type": "display_data"
    }
   ],
   "source": [
    "import warnings\n",
    "warnings.filterwarnings('ignore')\n",
    "plt.figure(figsize=(20,5))\n",
    "plt.suptitle('Distribution of Amount Before clean', size=20)\n",
    "plt.subplot(1,2,1)\n",
    "sns.distplot(df['Amount'],color='r')\n",
    "plt.subplot(1,2,2)\n",
    "sns.boxplot(df['Amount'],color='r')\n",
    "plt.show()"
   ]
  },
  {
   "cell_type": "code",
   "execution_count": 16,
   "metadata": {},
   "outputs": [],
   "source": [
    "percentile25 = df['Amount'].quantile(0.25)\n",
    "percentile75 = df['Amount'].quantile(0.75)\n",
    "iqr = percentile75 - percentile25\n",
    "upper_limit = percentile75 + 1.5 * iqr\n",
    "lower_limit = percentile25 - 1.5 * iqr"
   ]
  },
  {
   "cell_type": "code",
   "execution_count": 17,
   "metadata": {},
   "outputs": [
    {
     "name": "stdout",
     "output_type": "stream",
     "text": [
      "Upper Limit outliers:  851 (  11.55 % )\n",
      "Lower Limit outliers:  0\n"
     ]
    }
   ],
   "source": [
    "print('Upper Limit outliers: ',df[df['Amount'] > upper_limit].shape[0], '( ',round((df[df['Amount'] > upper_limit].shape[0]) / df.shape[0] *100,2),'% )')\n",
    "print('Lower Limit outliers: ',df[df['Amount'] < lower_limit].shape[0])\n"
   ]
  },
  {
   "cell_type": "code",
   "execution_count": 18,
   "metadata": {},
   "outputs": [],
   "source": [
    "new_df = df.loc[(df['Amount'] < upper_limit) & (df['Amount'] > lower_limit)]"
   ]
  },
  {
   "cell_type": "code",
   "execution_count": 19,
   "metadata": {},
   "outputs": [
    {
     "data": {
      "image/png": "[encoded data removed]",
      "text/plain": [
       "<Figure size 1440x360 with 2 Axes>"
      ]
     },
     "metadata": {
      "needs_background": "light"
     },
     "output_type": "display_data"
    }
   ],
   "source": [
    "plt.figure(figsize=(20,5))\n",
    "plt.subplot(1,2,1)\n",
    "plt.suptitle('Distribution of Amount After clean', size=20)\n",
    "sns.distplot(new_df['Amount'],color='g')\n",
    "plt.subplot(1,2,2)\n",
    "sns.boxplot(new_df['Amount'],color='g')\n",
    "plt.show()"
   ]
  },
  {
   "cell_type": "code",
   "execution_count": 20,
   "metadata": {},
   "outputs": [
    {
     "data": {
      "image/png": "[encoded data removed]",
      "text/plain": [
       "<Figure size 1440x504 with 1 Axes>"
      ]
     },
     "metadata": {
      "needs_background": "light"
     },
     "output_type": "display_data"
    }
   ],
   "source": [
    "plt.figure(figsize=(20,7))\n",
    "sns.boxplot(x='Class', y='Amount', data=new_df)\n",
    "plt.title('Target and Amount', size=25);"
   ]
  },
  {
   "cell_type": "markdown",
   "metadata": {},
   "source": [
    "# 🔍 Train - Validation Split"
   ]
  },
  {
   "cell_type": "code",
   "execution_count": 21,
   "metadata": {},
   "outputs": [],
   "source": [
    "X_train, X_val, y_train, y_val\\\n",
    "                            = train_test_split(new_df.drop(['Class'], axis=1),\\\n",
    "                                    new_df['Class'],\\\n",
    "                                    stratify = new_df['Class'],\\\n",
    "                                    random_state=0)"
   ]
  },
  {
   "cell_type": "code",
   "execution_count": 22,
   "metadata": {},
   "outputs": [
    {
     "data": {
      "text/plain": [
       "'X train'"
      ]
     },
     "metadata": {},
     "output_type": "display_data"
    },
    {
     "data": {
      "text/plain": [
       "(4889, 30)"
      ]
     },
     "metadata": {},
     "output_type": "display_data"
    },
    {
     "data": {
      "text/plain": [
       "'X Val'"
      ]
     },
     "metadata": {},
     "output_type": "display_data"
    },
    {
     "data": {
      "text/plain": [
       "(1630, 30)"
      ]
     },
     "metadata": {},
     "output_type": "display_data"
    },
    {
     "data": {
      "text/plain": [
       "'Y train'"
      ]
     },
     "metadata": {},
     "output_type": "display_data"
    },
    {
     "data": {
      "text/plain": [
       "(4889,)"
      ]
     },
     "metadata": {},
     "output_type": "display_data"
    },
    {
     "data": {
      "text/plain": [
       "'Y Val'"
      ]
     },
     "metadata": {},
     "output_type": "display_data"
    },
    {
     "data": {
      "text/plain": [
       "(1630,)"
      ]
     },
     "metadata": {},
     "output_type": "display_data"
    }
   ],
   "source": [
    "display('X train', X_train.shape,'X Val', X_val.shape,'Y train', y_train.shape,'Y Val', y_val.shape)"
   ]
  },
  {
   "cell_type": "markdown",
   "metadata": {},
   "source": [
    "# 🔍Unbalanced Classes"
   ]
  },
  {
   "cell_type": "code",
   "execution_count": 23,
   "metadata": {},
   "outputs": [
    {
     "data": {
      "text/plain": [
       "'Fraudulent and non fraudulent observations: '"
      ]
     },
     "metadata": {},
     "output_type": "display_data"
    },
    {
     "data": {
      "text/plain": [
       "0    6245\n",
       "1     274\n",
       "Name: Class, dtype: int64"
      ]
     },
     "metadata": {},
     "output_type": "display_data"
    },
    {
     "data": {
      "text/plain": [
       "' '"
      ]
     },
     "metadata": {},
     "output_type": "display_data"
    },
    {
     "data": {
      "text/plain": [
       "'Percentaje of Fraudulent and Non Fraudulent Obs'"
      ]
     },
     "metadata": {},
     "output_type": "display_data"
    },
    {
     "data": {
      "text/plain": [
       "0    0.847354\n",
       "1    0.037178\n",
       "Name: Class, dtype: float64"
      ]
     },
     "metadata": {},
     "output_type": "display_data"
    }
   ],
   "source": [
    "display('Fraudulent and non fraudulent observations: ',new_df.Class.value_counts(),' ',\n",
    "       'Percentaje of Fraudulent and Non Fraudulent Obs', new_df.Class.value_counts()/ df.shape[0]);"
   ]
  },
  {
   "cell_type": "code",
   "execution_count": 24,
   "metadata": {},
   "outputs": [
    {
     "name": "stdout",
     "output_type": "stream",
     "text": [
      "training set:\n",
      "1    4684\n",
      "0    4684\n",
      "Name: Class, dtype: int64\n",
      "\n",
      "val set:\n",
      "0    1561\n",
      "1      69\n",
      "Name: Class, dtype: int64\n"
     ]
    }
   ],
   "source": [
    "from imblearn.over_sampling import RandomOverSampler\n",
    "\n",
    "oversampler=RandomOverSampler(sampling_strategy='minority');\n",
    "\n",
    "X_train_os,y_train_os=oversampler.fit_resample(X_train,y_train);\n",
    "\n",
    "print('training set:')\n",
    "print(y_train_os.value_counts())\n",
    "\n",
    "print('\\nval set:')\n",
    "print(y_val.value_counts())"
   ]
  },
  {
   "cell_type": "markdown",
   "metadata": {},
   "source": [
    "# 🔍Model Evaluation"
   ]
  },
  {
   "cell_type": "markdown",
   "metadata": {},
   "source": [
    "### Logistic Regression"
   ]
  },
  {
   "cell_type": "code",
   "execution_count": 25,
   "metadata": {},
   "outputs": [
    {
     "name": "stdout",
     "output_type": "stream",
     "text": [
      "              precision    recall  f1-score   support\n",
      "\n",
      "           0       0.99      1.00      1.00      1561\n",
      "           1       1.00      0.84      0.91        69\n",
      "\n",
      "    accuracy                           0.99      1630\n",
      "   macro avg       1.00      0.92      0.95      1630\n",
      "weighted avg       0.99      0.99      0.99      1630\n",
      "\n",
      "Area under ROC curve: 0.9899\n",
      "Area under Precision-Recall curve: 0.9674\n"
     ]
    },
    {
     "data": {
      "image/png": "[encoded data removed]",
      "text/plain": [
       "<Figure size 432x288 with 2 Axes>"
      ]
     },
     "metadata": {
      "needs_background": "light"
     },
     "output_type": "display_data"
    }
   ],
   "source": [
    "model_logistic=LogisticRegressionCV(scoring='f1')\n",
    "    \n",
    "model_logistic.fit(X_train,y_train)\n",
    "y_pred=model_logistic.predict(X_val)\n",
    "y_proba=model_logistic.predict_proba(X_val)\n",
    "    \n",
    "print(classification_report(y_val,y_pred))\n",
    "    \n",
    "print('Area under ROC curve:',np.round(roc_auc_score(y_val,y_proba[:,1]),4))\n",
    "    \n",
    "precision, recall,threshold=precision_recall_curve(y_val,y_proba[:,1]);\n",
    "\n",
    "print('Area under Precision-Recall curve:',np.round(auc(recall,precision),4))\n",
    "\n",
    "plot_confusion_matrix(model_logistic,X_val,y_val,cmap='Blues');"
   ]
  },
  {
   "cell_type": "code",
   "execution_count": 26,
   "metadata": {},
   "outputs": [
    {
     "name": "stdout",
     "output_type": "stream",
     "text": [
      "              precision    recall  f1-score   support\n",
      "\n",
      "           0       1.00      1.00      1.00      1561\n",
      "           1       0.95      0.91      0.93        69\n",
      "\n",
      "    accuracy                           0.99      1630\n",
      "   macro avg       0.98      0.96      0.97      1630\n",
      "weighted avg       0.99      0.99      0.99      1630\n",
      "\n",
      "Area under ROC curve: 0.9556\n",
      "Area under Precision-Recall curve: 0.9356\n"
     ]
    },
    {
     "data": {
      "image/png": "[encoded data removed]",
      "text/plain": [
       "<Figure size 432x288 with 2 Axes>"
      ]
     },
     "metadata": {
      "needs_background": "light"
     },
     "output_type": "display_data"
    }
   ],
   "source": [
    "## Base Model\n",
    "\n",
    "dt = DecisionTreeClassifier(random_state=1)\n",
    "ab = AdaBoostClassifier(base_estimator=dt, n_estimators=500,random_state=1)\n",
    "\n",
    "model_ab_2 = ab.fit(X_train, y_train)\n",
    "\n",
    "y_pred_ab_2=model_ab_2.predict(X_val)\n",
    "y_proba_ab_2=model_ab_2.predict_proba(X_val)\n",
    "    \n",
    "print(classification_report(y_val,y_pred_ab_2))\n",
    "    \n",
    "print('Area under ROC curve:',np.round(roc_auc_score(y_val,y_proba_ab_2[:,1]),4))\n",
    "    \n",
    "precision, recall,threshold=precision_recall_curve(y_val,y_proba_ab_2[:,1]);\n",
    "\n",
    "print('Area under Precision-Recall curve:',np.round(auc(recall,precision),4))\n",
    "\n",
    "plot_confusion_matrix(model_ab_2,X_val,y_val,cmap='Blues');"
   ]
  },
  {
   "cell_type": "code",
   "execution_count": 27,
   "metadata": {},
   "outputs": [
    {
     "data": {
      "image/png": "[encoded data removed]",
      "text/plain": [
       "<Figure size 1440x360 with 1 Axes>"
      ]
     },
     "metadata": {
      "needs_background": "light"
     },
     "output_type": "display_data"
    }
   ],
   "source": [
    "importances = model_ab_2.feature_importances_\n",
    "\n",
    "\n",
    "index = np.argsort(importances)[::-1]\n",
    "names = X_train.columns[index]\n",
    "\n",
    "# Creamos el plot\n",
    "plt.figure(figsize=(20,5))\n",
    "\n",
    "# Creamos plot title\n",
    "plt.title(\"Feature Importance\")\n",
    "\n",
    "# Agregamos las barras\n",
    "plt.bar(range(X_train.shape[1]), importances[index])\n",
    "\n",
    "# Agregamos los feature names \n",
    "plt.xticks(range(X_train.shape[1]), names, rotation=90)\n",
    "\n",
    "# Show plot\n",
    "plt.show()"
   ]
  },
  {
   "cell_type": "markdown",
   "metadata": {},
   "source": [
    "# 🔍Predicting new values"
   ]
  },
  {
   "cell_type": "code",
   "execution_count": 28,
   "metadata": {},
   "outputs": [],
   "source": [
    "\n",
    "# Droping unnecesary columns\n",
    "X_test = X_test.drop(columns=['Unnamed: 0'], axis=1)\n"
   ]
  },
  {
   "cell_type": "code",
   "execution_count": 29,
   "metadata": {},
   "outputs": [],
   "source": [
    "y_test_pred=model_ab_2.predict(X_test)"
   ]
  },
  {
   "cell_type": "code",
   "execution_count": 30,
   "metadata": {},
   "outputs": [],
   "source": [
    "predictions = pd.DataFrame(y_test_pred)\n",
    "predictions.columns = ['Y_Pred']"
   ]
  },
  {
   "cell_type": "code",
   "execution_count": 31,
   "metadata": {},
   "outputs": [
    {
     "data": {
      "text/plain": [
       "0    3454\n",
       "1     176\n",
       "Name: Y_Pred, dtype: int64"
      ]
     },
     "execution_count": 31,
     "metadata": {},
     "output_type": "execute_result"
    }
   ],
   "source": [
    "predictions.Y_Pred.value_counts()"
   ]
  },
  {
   "cell_type": "code",
   "execution_count": 32,
   "metadata": {},
   "outputs": [],
   "source": [
    "predictions.to_csv('predictions_delivery.csv', index=False)"
   ]
  },
  {
   "cell_type": "markdown",
   "metadata": {},
   "source": [
    "<img src='https://pbs.twimg.com/profile_images/2482738858/58igkd1cqnuc9sdqcgri_400x400.gif'>"
   ]
  }
 ],
 "metadata": {
  "kernelspec": {
   "display_name": "Python 3",
   "language": "python",
   "name": "python3"
  },
  "language_info": {
   "codemirror_mode": {
    "name": "ipython",
    "version": 3
   },
   "file_extension": ".py",
   "mimetype": "text/x-python",
   "name": "python",
   "nbconvert_exporter": "python",
   "pygments_lexer": "ipython3",
   "version": "3.7.9"
  }
 },
 "nbformat": 4,
 "nbformat_minor": 4
}
